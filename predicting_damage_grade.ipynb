{
  "cells": [
    {
      "cell_type": "markdown",
      "metadata": {
        "id": "view-in-github",
        "colab_type": "text"
      },
      "source": [
        "<a href=\"https://colab.research.google.com/github/s-rishu/predicting-earthquake-damage/blob/main/predicting_damage_grade.ipynb\" target=\"_parent\"><img src=\"https://colab.research.google.com/assets/colab-badge.svg\" alt=\"Open In Colab\"/></a>"
      ]
    },
    {
      "cell_type": "code",
      "execution_count": null,
      "id": "f5e982f3",
      "metadata": {
        "id": "f5e982f3"
      },
      "outputs": [],
      "source": [
        "import os\n",
        "\n",
        "os.getcwd()\n",
        "os.chdir('C:\\\\0_Jpt\\\\0_ML_NYU_1')\n",
        "Py_Base = 'C:\\\\0_Jpt\\\\0_ML_NYU_1'\n",
        "\n",
        "from IPython.core.interactiveshell import InteractiveShell\n",
        "InteractiveShell.ast_node_interactivity = \"all\"\n",
        "\n",
        "\n",
        "import warnings\n",
        "warnings.filterwarnings(\"ignore\")\n",
        "\n",
        "\n",
        "import io\n",
        "\n",
        "\n",
        "# OS\n",
        "import time\n",
        "\n",
        "# Preprocessing / EDA\n",
        "import numpy as np\n",
        "import pandas as pd\n",
        "import scipy as sp\n",
        "import matplotlib.pyplot as plt\n",
        "\n",
        "import seaborn as sns\n",
        "\n",
        "# Modelling\n",
        "import statsmodels.api as sm\n",
        "from sklearn.linear_model import LogisticRegression\n",
        "\n",
        "\n",
        "# 모형 성능 평가\n",
        "from sklearn.model_selection import train_test_split\n",
        "from sklearn.metrics import confusion_matrix\n",
        "from sklearn.metrics import accuracy_score,roc_auc_score, roc_curve"
      ]
    },
    {
      "cell_type": "code",
      "execution_count": null,
      "id": "8fed1f66",
      "metadata": {
        "id": "8fed1f66"
      },
      "outputs": [],
      "source": [
        "train_labels = pd.read_csv(\"C:\\\\Users\\\\82104\\\\Desktop\\\\train_labels.csv\")\n",
        "test_values = pd.read_csv(\"C:\\\\Users\\\\82104\\\\Desktop\\\\test_values.csv\")\n",
        "train_values = pd.read_csv(\"C:\\\\Users\\\\82104\\\\Desktop\\\\train_values.csv\")"
      ]
    },
    {
      "cell_type": "code",
      "execution_count": null,
      "id": "b55fb9a8",
      "metadata": {
        "id": "b55fb9a8",
        "outputId": "21e40dac-98bd-465d-ad34-d136644db3dc"
      },
      "outputs": [
        {
          "data": {
            "text/html": [
              "<div>\n",
              "<style scoped>\n",
              "    .dataframe tbody tr th:only-of-type {\n",
              "        vertical-align: middle;\n",
              "    }\n",
              "\n",
              "    .dataframe tbody tr th {\n",
              "        vertical-align: top;\n",
              "    }\n",
              "\n",
              "    .dataframe thead th {\n",
              "        text-align: right;\n",
              "    }\n",
              "</style>\n",
              "<table border=\"1\" class=\"dataframe\">\n",
              "  <thead>\n",
              "    <tr style=\"text-align: right;\">\n",
              "      <th></th>\n",
              "      <th>building_id</th>\n",
              "      <th>damage_grade</th>\n",
              "    </tr>\n",
              "  </thead>\n",
              "  <tbody>\n",
              "    <tr>\n",
              "      <th>0</th>\n",
              "      <td>802906</td>\n",
              "      <td>3</td>\n",
              "    </tr>\n",
              "    <tr>\n",
              "      <th>1</th>\n",
              "      <td>28830</td>\n",
              "      <td>2</td>\n",
              "    </tr>\n",
              "    <tr>\n",
              "      <th>2</th>\n",
              "      <td>94947</td>\n",
              "      <td>3</td>\n",
              "    </tr>\n",
              "    <tr>\n",
              "      <th>3</th>\n",
              "      <td>590882</td>\n",
              "      <td>2</td>\n",
              "    </tr>\n",
              "    <tr>\n",
              "      <th>4</th>\n",
              "      <td>201944</td>\n",
              "      <td>3</td>\n",
              "    </tr>\n",
              "  </tbody>\n",
              "</table>\n",
              "</div>"
            ],
            "text/plain": [
              "   building_id  damage_grade\n",
              "0       802906             3\n",
              "1        28830             2\n",
              "2        94947             3\n",
              "3       590882             2\n",
              "4       201944             3"
            ]
          },
          "execution_count": 5,
          "metadata": {},
          "output_type": "execute_result"
        }
      ],
      "source": [
        "train_labels.head()"
      ]
    },
    {
      "cell_type": "code",
      "execution_count": null,
      "id": "9710cf72",
      "metadata": {
        "id": "9710cf72",
        "outputId": "eaaaa511-6e63-4bb4-a886-02f18ad67c4c"
      },
      "outputs": [
        {
          "data": {
            "text/html": [
              "<div>\n",
              "<style scoped>\n",
              "    .dataframe tbody tr th:only-of-type {\n",
              "        vertical-align: middle;\n",
              "    }\n",
              "\n",
              "    .dataframe tbody tr th {\n",
              "        vertical-align: top;\n",
              "    }\n",
              "\n",
              "    .dataframe thead th {\n",
              "        text-align: right;\n",
              "    }\n",
              "</style>\n",
              "<table border=\"1\" class=\"dataframe\">\n",
              "  <thead>\n",
              "    <tr style=\"text-align: right;\">\n",
              "      <th></th>\n",
              "      <th>building_id</th>\n",
              "      <th>geo_level_1_id</th>\n",
              "      <th>geo_level_2_id</th>\n",
              "      <th>geo_level_3_id</th>\n",
              "      <th>count_floors_pre_eq</th>\n",
              "      <th>age</th>\n",
              "      <th>area_percentage</th>\n",
              "      <th>height_percentage</th>\n",
              "      <th>land_surface_condition</th>\n",
              "      <th>foundation_type</th>\n",
              "      <th>...</th>\n",
              "      <th>has_secondary_use_agriculture</th>\n",
              "      <th>has_secondary_use_hotel</th>\n",
              "      <th>has_secondary_use_rental</th>\n",
              "      <th>has_secondary_use_institution</th>\n",
              "      <th>has_secondary_use_school</th>\n",
              "      <th>has_secondary_use_industry</th>\n",
              "      <th>has_secondary_use_health_post</th>\n",
              "      <th>has_secondary_use_gov_office</th>\n",
              "      <th>has_secondary_use_use_police</th>\n",
              "      <th>has_secondary_use_other</th>\n",
              "    </tr>\n",
              "  </thead>\n",
              "  <tbody>\n",
              "    <tr>\n",
              "      <th>0</th>\n",
              "      <td>802906</td>\n",
              "      <td>6</td>\n",
              "      <td>487</td>\n",
              "      <td>12198</td>\n",
              "      <td>2</td>\n",
              "      <td>30</td>\n",
              "      <td>6</td>\n",
              "      <td>5</td>\n",
              "      <td>t</td>\n",
              "      <td>r</td>\n",
              "      <td>...</td>\n",
              "      <td>0</td>\n",
              "      <td>0</td>\n",
              "      <td>0</td>\n",
              "      <td>0</td>\n",
              "      <td>0</td>\n",
              "      <td>0</td>\n",
              "      <td>0</td>\n",
              "      <td>0</td>\n",
              "      <td>0</td>\n",
              "      <td>0</td>\n",
              "    </tr>\n",
              "    <tr>\n",
              "      <th>1</th>\n",
              "      <td>28830</td>\n",
              "      <td>8</td>\n",
              "      <td>900</td>\n",
              "      <td>2812</td>\n",
              "      <td>2</td>\n",
              "      <td>10</td>\n",
              "      <td>8</td>\n",
              "      <td>7</td>\n",
              "      <td>o</td>\n",
              "      <td>r</td>\n",
              "      <td>...</td>\n",
              "      <td>0</td>\n",
              "      <td>0</td>\n",
              "      <td>0</td>\n",
              "      <td>0</td>\n",
              "      <td>0</td>\n",
              "      <td>0</td>\n",
              "      <td>0</td>\n",
              "      <td>0</td>\n",
              "      <td>0</td>\n",
              "      <td>0</td>\n",
              "    </tr>\n",
              "    <tr>\n",
              "      <th>2</th>\n",
              "      <td>94947</td>\n",
              "      <td>21</td>\n",
              "      <td>363</td>\n",
              "      <td>8973</td>\n",
              "      <td>2</td>\n",
              "      <td>10</td>\n",
              "      <td>5</td>\n",
              "      <td>5</td>\n",
              "      <td>t</td>\n",
              "      <td>r</td>\n",
              "      <td>...</td>\n",
              "      <td>0</td>\n",
              "      <td>0</td>\n",
              "      <td>0</td>\n",
              "      <td>0</td>\n",
              "      <td>0</td>\n",
              "      <td>0</td>\n",
              "      <td>0</td>\n",
              "      <td>0</td>\n",
              "      <td>0</td>\n",
              "      <td>0</td>\n",
              "    </tr>\n",
              "    <tr>\n",
              "      <th>3</th>\n",
              "      <td>590882</td>\n",
              "      <td>22</td>\n",
              "      <td>418</td>\n",
              "      <td>10694</td>\n",
              "      <td>2</td>\n",
              "      <td>10</td>\n",
              "      <td>6</td>\n",
              "      <td>5</td>\n",
              "      <td>t</td>\n",
              "      <td>r</td>\n",
              "      <td>...</td>\n",
              "      <td>0</td>\n",
              "      <td>0</td>\n",
              "      <td>0</td>\n",
              "      <td>0</td>\n",
              "      <td>0</td>\n",
              "      <td>0</td>\n",
              "      <td>0</td>\n",
              "      <td>0</td>\n",
              "      <td>0</td>\n",
              "      <td>0</td>\n",
              "    </tr>\n",
              "    <tr>\n",
              "      <th>4</th>\n",
              "      <td>201944</td>\n",
              "      <td>11</td>\n",
              "      <td>131</td>\n",
              "      <td>1488</td>\n",
              "      <td>3</td>\n",
              "      <td>30</td>\n",
              "      <td>8</td>\n",
              "      <td>9</td>\n",
              "      <td>t</td>\n",
              "      <td>r</td>\n",
              "      <td>...</td>\n",
              "      <td>0</td>\n",
              "      <td>0</td>\n",
              "      <td>0</td>\n",
              "      <td>0</td>\n",
              "      <td>0</td>\n",
              "      <td>0</td>\n",
              "      <td>0</td>\n",
              "      <td>0</td>\n",
              "      <td>0</td>\n",
              "      <td>0</td>\n",
              "    </tr>\n",
              "  </tbody>\n",
              "</table>\n",
              "<p>5 rows × 39 columns</p>\n",
              "</div>"
            ],
            "text/plain": [
              "   building_id  geo_level_1_id  geo_level_2_id  geo_level_3_id  \\\n",
              "0       802906               6             487           12198   \n",
              "1        28830               8             900            2812   \n",
              "2        94947              21             363            8973   \n",
              "3       590882              22             418           10694   \n",
              "4       201944              11             131            1488   \n",
              "\n",
              "   count_floors_pre_eq  age  area_percentage  height_percentage  \\\n",
              "0                    2   30                6                  5   \n",
              "1                    2   10                8                  7   \n",
              "2                    2   10                5                  5   \n",
              "3                    2   10                6                  5   \n",
              "4                    3   30                8                  9   \n",
              "\n",
              "  land_surface_condition foundation_type  ... has_secondary_use_agriculture  \\\n",
              "0                      t               r  ...                             0   \n",
              "1                      o               r  ...                             0   \n",
              "2                      t               r  ...                             0   \n",
              "3                      t               r  ...                             0   \n",
              "4                      t               r  ...                             0   \n",
              "\n",
              "  has_secondary_use_hotel has_secondary_use_rental  \\\n",
              "0                       0                        0   \n",
              "1                       0                        0   \n",
              "2                       0                        0   \n",
              "3                       0                        0   \n",
              "4                       0                        0   \n",
              "\n",
              "  has_secondary_use_institution has_secondary_use_school  \\\n",
              "0                             0                        0   \n",
              "1                             0                        0   \n",
              "2                             0                        0   \n",
              "3                             0                        0   \n",
              "4                             0                        0   \n",
              "\n",
              "   has_secondary_use_industry  has_secondary_use_health_post  \\\n",
              "0                           0                              0   \n",
              "1                           0                              0   \n",
              "2                           0                              0   \n",
              "3                           0                              0   \n",
              "4                           0                              0   \n",
              "\n",
              "   has_secondary_use_gov_office  has_secondary_use_use_police  \\\n",
              "0                             0                             0   \n",
              "1                             0                             0   \n",
              "2                             0                             0   \n",
              "3                             0                             0   \n",
              "4                             0                             0   \n",
              "\n",
              "   has_secondary_use_other  \n",
              "0                        0  \n",
              "1                        0  \n",
              "2                        0  \n",
              "3                        0  \n",
              "4                        0  \n",
              "\n",
              "[5 rows x 39 columns]"
            ]
          },
          "execution_count": 6,
          "metadata": {},
          "output_type": "execute_result"
        }
      ],
      "source": [
        "train_values.head()"
      ]
    },
    {
      "cell_type": "code",
      "execution_count": null,
      "id": "30e098ef",
      "metadata": {
        "id": "30e098ef",
        "outputId": "bbc7a5e8-8294-4384-8396-e94b32a89e34"
      },
      "outputs": [
        {
          "data": {
            "text/html": [
              "<div>\n",
              "<style scoped>\n",
              "    .dataframe tbody tr th:only-of-type {\n",
              "        vertical-align: middle;\n",
              "    }\n",
              "\n",
              "    .dataframe tbody tr th {\n",
              "        vertical-align: top;\n",
              "    }\n",
              "\n",
              "    .dataframe thead th {\n",
              "        text-align: right;\n",
              "    }\n",
              "</style>\n",
              "<table border=\"1\" class=\"dataframe\">\n",
              "  <thead>\n",
              "    <tr style=\"text-align: right;\">\n",
              "      <th></th>\n",
              "      <th>building_id</th>\n",
              "      <th>geo_level_1_id</th>\n",
              "      <th>geo_level_2_id</th>\n",
              "      <th>geo_level_3_id</th>\n",
              "      <th>count_floors_pre_eq</th>\n",
              "      <th>age</th>\n",
              "      <th>area_percentage</th>\n",
              "      <th>height_percentage</th>\n",
              "      <th>land_surface_condition</th>\n",
              "      <th>foundation_type</th>\n",
              "      <th>...</th>\n",
              "      <th>has_secondary_use_agriculture</th>\n",
              "      <th>has_secondary_use_hotel</th>\n",
              "      <th>has_secondary_use_rental</th>\n",
              "      <th>has_secondary_use_institution</th>\n",
              "      <th>has_secondary_use_school</th>\n",
              "      <th>has_secondary_use_industry</th>\n",
              "      <th>has_secondary_use_health_post</th>\n",
              "      <th>has_secondary_use_gov_office</th>\n",
              "      <th>has_secondary_use_use_police</th>\n",
              "      <th>has_secondary_use_other</th>\n",
              "    </tr>\n",
              "  </thead>\n",
              "  <tbody>\n",
              "    <tr>\n",
              "      <th>0</th>\n",
              "      <td>300051</td>\n",
              "      <td>17</td>\n",
              "      <td>596</td>\n",
              "      <td>11307</td>\n",
              "      <td>3</td>\n",
              "      <td>20</td>\n",
              "      <td>7</td>\n",
              "      <td>6</td>\n",
              "      <td>t</td>\n",
              "      <td>r</td>\n",
              "      <td>...</td>\n",
              "      <td>0</td>\n",
              "      <td>0</td>\n",
              "      <td>0</td>\n",
              "      <td>0</td>\n",
              "      <td>0</td>\n",
              "      <td>0</td>\n",
              "      <td>0</td>\n",
              "      <td>0</td>\n",
              "      <td>0</td>\n",
              "      <td>0</td>\n",
              "    </tr>\n",
              "    <tr>\n",
              "      <th>1</th>\n",
              "      <td>99355</td>\n",
              "      <td>6</td>\n",
              "      <td>141</td>\n",
              "      <td>11987</td>\n",
              "      <td>2</td>\n",
              "      <td>25</td>\n",
              "      <td>13</td>\n",
              "      <td>5</td>\n",
              "      <td>t</td>\n",
              "      <td>r</td>\n",
              "      <td>...</td>\n",
              "      <td>1</td>\n",
              "      <td>0</td>\n",
              "      <td>0</td>\n",
              "      <td>0</td>\n",
              "      <td>0</td>\n",
              "      <td>0</td>\n",
              "      <td>0</td>\n",
              "      <td>0</td>\n",
              "      <td>0</td>\n",
              "      <td>0</td>\n",
              "    </tr>\n",
              "    <tr>\n",
              "      <th>2</th>\n",
              "      <td>890251</td>\n",
              "      <td>22</td>\n",
              "      <td>19</td>\n",
              "      <td>10044</td>\n",
              "      <td>2</td>\n",
              "      <td>5</td>\n",
              "      <td>4</td>\n",
              "      <td>5</td>\n",
              "      <td>t</td>\n",
              "      <td>r</td>\n",
              "      <td>...</td>\n",
              "      <td>0</td>\n",
              "      <td>0</td>\n",
              "      <td>0</td>\n",
              "      <td>0</td>\n",
              "      <td>0</td>\n",
              "      <td>0</td>\n",
              "      <td>0</td>\n",
              "      <td>0</td>\n",
              "      <td>0</td>\n",
              "      <td>0</td>\n",
              "    </tr>\n",
              "    <tr>\n",
              "      <th>3</th>\n",
              "      <td>745817</td>\n",
              "      <td>26</td>\n",
              "      <td>39</td>\n",
              "      <td>633</td>\n",
              "      <td>1</td>\n",
              "      <td>0</td>\n",
              "      <td>19</td>\n",
              "      <td>3</td>\n",
              "      <td>t</td>\n",
              "      <td>r</td>\n",
              "      <td>...</td>\n",
              "      <td>0</td>\n",
              "      <td>0</td>\n",
              "      <td>1</td>\n",
              "      <td>0</td>\n",
              "      <td>0</td>\n",
              "      <td>0</td>\n",
              "      <td>0</td>\n",
              "      <td>0</td>\n",
              "      <td>0</td>\n",
              "      <td>0</td>\n",
              "    </tr>\n",
              "    <tr>\n",
              "      <th>4</th>\n",
              "      <td>421793</td>\n",
              "      <td>17</td>\n",
              "      <td>289</td>\n",
              "      <td>7970</td>\n",
              "      <td>3</td>\n",
              "      <td>15</td>\n",
              "      <td>8</td>\n",
              "      <td>7</td>\n",
              "      <td>t</td>\n",
              "      <td>r</td>\n",
              "      <td>...</td>\n",
              "      <td>0</td>\n",
              "      <td>0</td>\n",
              "      <td>0</td>\n",
              "      <td>0</td>\n",
              "      <td>0</td>\n",
              "      <td>0</td>\n",
              "      <td>0</td>\n",
              "      <td>0</td>\n",
              "      <td>0</td>\n",
              "      <td>0</td>\n",
              "    </tr>\n",
              "  </tbody>\n",
              "</table>\n",
              "<p>5 rows × 39 columns</p>\n",
              "</div>"
            ],
            "text/plain": [
              "   building_id  geo_level_1_id  geo_level_2_id  geo_level_3_id  \\\n",
              "0       300051              17             596           11307   \n",
              "1        99355               6             141           11987   \n",
              "2       890251              22              19           10044   \n",
              "3       745817              26              39             633   \n",
              "4       421793              17             289            7970   \n",
              "\n",
              "   count_floors_pre_eq  age  area_percentage  height_percentage  \\\n",
              "0                    3   20                7                  6   \n",
              "1                    2   25               13                  5   \n",
              "2                    2    5                4                  5   \n",
              "3                    1    0               19                  3   \n",
              "4                    3   15                8                  7   \n",
              "\n",
              "  land_surface_condition foundation_type  ... has_secondary_use_agriculture  \\\n",
              "0                      t               r  ...                             0   \n",
              "1                      t               r  ...                             1   \n",
              "2                      t               r  ...                             0   \n",
              "3                      t               r  ...                             0   \n",
              "4                      t               r  ...                             0   \n",
              "\n",
              "  has_secondary_use_hotel has_secondary_use_rental  \\\n",
              "0                       0                        0   \n",
              "1                       0                        0   \n",
              "2                       0                        0   \n",
              "3                       0                        1   \n",
              "4                       0                        0   \n",
              "\n",
              "  has_secondary_use_institution has_secondary_use_school  \\\n",
              "0                             0                        0   \n",
              "1                             0                        0   \n",
              "2                             0                        0   \n",
              "3                             0                        0   \n",
              "4                             0                        0   \n",
              "\n",
              "   has_secondary_use_industry  has_secondary_use_health_post  \\\n",
              "0                           0                              0   \n",
              "1                           0                              0   \n",
              "2                           0                              0   \n",
              "3                           0                              0   \n",
              "4                           0                              0   \n",
              "\n",
              "   has_secondary_use_gov_office  has_secondary_use_use_police  \\\n",
              "0                             0                             0   \n",
              "1                             0                             0   \n",
              "2                             0                             0   \n",
              "3                             0                             0   \n",
              "4                             0                             0   \n",
              "\n",
              "   has_secondary_use_other  \n",
              "0                        0  \n",
              "1                        0  \n",
              "2                        0  \n",
              "3                        0  \n",
              "4                        0  \n",
              "\n",
              "[5 rows x 39 columns]"
            ]
          },
          "execution_count": 7,
          "metadata": {},
          "output_type": "execute_result"
        }
      ],
      "source": [
        "test_values.head()"
      ]
    },
    {
      "cell_type": "code",
      "execution_count": null,
      "id": "e8dbb22a",
      "metadata": {
        "id": "e8dbb22a",
        "outputId": "c5b36a10-d16c-4050-ec33-733c33593d9b"
      },
      "outputs": [
        {
          "data": {
            "text/plain": [
              "(260601, 39)"
            ]
          },
          "execution_count": 14,
          "metadata": {},
          "output_type": "execute_result"
        },
        {
          "data": {
            "text/plain": [
              "Index(['building_id', 'geo_level_1_id', 'geo_level_2_id', 'geo_level_3_id',\n",
              "       'count_floors_pre_eq', 'age', 'area_percentage', 'height_percentage',\n",
              "       'land_surface_condition', 'foundation_type', 'roof_type',\n",
              "       'ground_floor_type', 'other_floor_type', 'position',\n",
              "       'plan_configuration', 'has_superstructure_adobe_mud',\n",
              "       'has_superstructure_mud_mortar_stone', 'has_superstructure_stone_flag',\n",
              "       'has_superstructure_cement_mortar_stone',\n",
              "       'has_superstructure_mud_mortar_brick',\n",
              "       'has_superstructure_cement_mortar_brick', 'has_superstructure_timber',\n",
              "       'has_superstructure_bamboo', 'has_superstructure_rc_non_engineered',\n",
              "       'has_superstructure_rc_engineered', 'has_superstructure_other',\n",
              "       'legal_ownership_status', 'count_families', 'has_secondary_use',\n",
              "       'has_secondary_use_agriculture', 'has_secondary_use_hotel',\n",
              "       'has_secondary_use_rental', 'has_secondary_use_institution',\n",
              "       'has_secondary_use_school', 'has_secondary_use_industry',\n",
              "       'has_secondary_use_health_post', 'has_secondary_use_gov_office',\n",
              "       'has_secondary_use_use_police', 'has_secondary_use_other'],\n",
              "      dtype='object')"
            ]
          },
          "execution_count": 14,
          "metadata": {},
          "output_type": "execute_result"
        }
      ],
      "source": [
        "train_values.shape\n",
        "train_values.columns"
      ]
    },
    {
      "cell_type": "code",
      "execution_count": null,
      "id": "8ef47441",
      "metadata": {
        "id": "8ef47441",
        "outputId": "9a57c45c-7798-4714-9ced-256dd4dfc079"
      },
      "outputs": [
        {
          "data": {
            "text/html": [
              "<div>\n",
              "<style scoped>\n",
              "    .dataframe tbody tr th:only-of-type {\n",
              "        vertical-align: middle;\n",
              "    }\n",
              "\n",
              "    .dataframe tbody tr th {\n",
              "        vertical-align: top;\n",
              "    }\n",
              "\n",
              "    .dataframe thead th {\n",
              "        text-align: right;\n",
              "    }\n",
              "</style>\n",
              "<table border=\"1\" class=\"dataframe\">\n",
              "  <thead>\n",
              "    <tr style=\"text-align: right;\">\n",
              "      <th></th>\n",
              "      <th>damage_grade</th>\n",
              "    </tr>\n",
              "  </thead>\n",
              "  <tbody>\n",
              "    <tr>\n",
              "      <th>0</th>\n",
              "      <td>3</td>\n",
              "    </tr>\n",
              "    <tr>\n",
              "      <th>1</th>\n",
              "      <td>2</td>\n",
              "    </tr>\n",
              "    <tr>\n",
              "      <th>2</th>\n",
              "      <td>3</td>\n",
              "    </tr>\n",
              "    <tr>\n",
              "      <th>3</th>\n",
              "      <td>2</td>\n",
              "    </tr>\n",
              "    <tr>\n",
              "      <th>4</th>\n",
              "      <td>3</td>\n",
              "    </tr>\n",
              "    <tr>\n",
              "      <th>...</th>\n",
              "      <td>...</td>\n",
              "    </tr>\n",
              "    <tr>\n",
              "      <th>260596</th>\n",
              "      <td>2</td>\n",
              "    </tr>\n",
              "    <tr>\n",
              "      <th>260597</th>\n",
              "      <td>3</td>\n",
              "    </tr>\n",
              "    <tr>\n",
              "      <th>260598</th>\n",
              "      <td>3</td>\n",
              "    </tr>\n",
              "    <tr>\n",
              "      <th>260599</th>\n",
              "      <td>2</td>\n",
              "    </tr>\n",
              "    <tr>\n",
              "      <th>260600</th>\n",
              "      <td>3</td>\n",
              "    </tr>\n",
              "  </tbody>\n",
              "</table>\n",
              "<p>260601 rows × 1 columns</p>\n",
              "</div>"
            ],
            "text/plain": [
              "        damage_grade\n",
              "0                  3\n",
              "1                  2\n",
              "2                  3\n",
              "3                  2\n",
              "4                  3\n",
              "...              ...\n",
              "260596             2\n",
              "260597             3\n",
              "260598             3\n",
              "260599             2\n",
              "260600             3\n",
              "\n",
              "[260601 rows x 1 columns]"
            ]
          },
          "execution_count": 21,
          "metadata": {},
          "output_type": "execute_result"
        }
      ],
      "source": [
        "train_labels[[\"damage_grade\"]]"
      ]
    },
    {
      "cell_type": "code",
      "execution_count": null,
      "id": "df316cd6",
      "metadata": {
        "id": "df316cd6"
      },
      "outputs": [],
      "source": [
        "X = train_values\n",
        "y = train_labels[[\"damage_grade\"]]"
      ]
    },
    {
      "cell_type": "code",
      "execution_count": null,
      "id": "a8f8ceb9",
      "metadata": {
        "id": "a8f8ceb9",
        "outputId": "846d6cfd-7edb-4b10-d94d-4943b25c7c2f"
      },
      "outputs": [
        {
          "data": {
            "text/html": [
              "<div>\n",
              "<style scoped>\n",
              "    .dataframe tbody tr th:only-of-type {\n",
              "        vertical-align: middle;\n",
              "    }\n",
              "\n",
              "    .dataframe tbody tr th {\n",
              "        vertical-align: top;\n",
              "    }\n",
              "\n",
              "    .dataframe thead th {\n",
              "        text-align: right;\n",
              "    }\n",
              "</style>\n",
              "<table border=\"1\" class=\"dataframe\">\n",
              "  <thead>\n",
              "    <tr style=\"text-align: right;\">\n",
              "      <th></th>\n",
              "      <th>damage_grade</th>\n",
              "    </tr>\n",
              "  </thead>\n",
              "  <tbody>\n",
              "    <tr>\n",
              "      <th>0</th>\n",
              "      <td>3</td>\n",
              "    </tr>\n",
              "    <tr>\n",
              "      <th>1</th>\n",
              "      <td>2</td>\n",
              "    </tr>\n",
              "    <tr>\n",
              "      <th>2</th>\n",
              "      <td>3</td>\n",
              "    </tr>\n",
              "    <tr>\n",
              "      <th>3</th>\n",
              "      <td>2</td>\n",
              "    </tr>\n",
              "    <tr>\n",
              "      <th>4</th>\n",
              "      <td>3</td>\n",
              "    </tr>\n",
              "    <tr>\n",
              "      <th>...</th>\n",
              "      <td>...</td>\n",
              "    </tr>\n",
              "    <tr>\n",
              "      <th>260596</th>\n",
              "      <td>2</td>\n",
              "    </tr>\n",
              "    <tr>\n",
              "      <th>260597</th>\n",
              "      <td>3</td>\n",
              "    </tr>\n",
              "    <tr>\n",
              "      <th>260598</th>\n",
              "      <td>3</td>\n",
              "    </tr>\n",
              "    <tr>\n",
              "      <th>260599</th>\n",
              "      <td>2</td>\n",
              "    </tr>\n",
              "    <tr>\n",
              "      <th>260600</th>\n",
              "      <td>3</td>\n",
              "    </tr>\n",
              "  </tbody>\n",
              "</table>\n",
              "<p>260601 rows × 1 columns</p>\n",
              "</div>"
            ],
            "text/plain": [
              "        damage_grade\n",
              "0                  3\n",
              "1                  2\n",
              "2                  3\n",
              "3                  2\n",
              "4                  3\n",
              "...              ...\n",
              "260596             2\n",
              "260597             3\n",
              "260598             3\n",
              "260599             2\n",
              "260600             3\n",
              "\n",
              "[260601 rows x 1 columns]"
            ]
          },
          "execution_count": 23,
          "metadata": {},
          "output_type": "execute_result"
        }
      ],
      "source": [
        "y"
      ]
    },
    {
      "cell_type": "code",
      "execution_count": null,
      "id": "c37be6cb",
      "metadata": {
        "id": "c37be6cb"
      },
      "outputs": [],
      "source": [
        "df = X"
      ]
    },
    {
      "cell_type": "code",
      "execution_count": null,
      "id": "1dd079d4",
      "metadata": {
        "id": "1dd079d4"
      },
      "outputs": [],
      "source": [
        "df[\"damage_grade\"] = train_labels.damage_grade"
      ]
    },
    {
      "cell_type": "code",
      "execution_count": null,
      "id": "6bbac98c",
      "metadata": {
        "id": "6bbac98c",
        "outputId": "b3123174-0fe6-4677-92c9-5ad7754d1c73"
      },
      "outputs": [
        {
          "data": {
            "text/html": [
              "<div>\n",
              "<style scoped>\n",
              "    .dataframe tbody tr th:only-of-type {\n",
              "        vertical-align: middle;\n",
              "    }\n",
              "\n",
              "    .dataframe tbody tr th {\n",
              "        vertical-align: top;\n",
              "    }\n",
              "\n",
              "    .dataframe thead th {\n",
              "        text-align: right;\n",
              "    }\n",
              "</style>\n",
              "<table border=\"1\" class=\"dataframe\">\n",
              "  <thead>\n",
              "    <tr style=\"text-align: right;\">\n",
              "      <th></th>\n",
              "      <th>building_id</th>\n",
              "      <th>geo_level_1_id</th>\n",
              "      <th>geo_level_2_id</th>\n",
              "      <th>geo_level_3_id</th>\n",
              "      <th>count_floors_pre_eq</th>\n",
              "      <th>age</th>\n",
              "      <th>area_percentage</th>\n",
              "      <th>height_percentage</th>\n",
              "      <th>land_surface_condition</th>\n",
              "      <th>foundation_type</th>\n",
              "      <th>...</th>\n",
              "      <th>has_secondary_use_hotel</th>\n",
              "      <th>has_secondary_use_rental</th>\n",
              "      <th>has_secondary_use_institution</th>\n",
              "      <th>has_secondary_use_school</th>\n",
              "      <th>has_secondary_use_industry</th>\n",
              "      <th>has_secondary_use_health_post</th>\n",
              "      <th>has_secondary_use_gov_office</th>\n",
              "      <th>has_secondary_use_use_police</th>\n",
              "      <th>has_secondary_use_other</th>\n",
              "      <th>damage_grade</th>\n",
              "    </tr>\n",
              "  </thead>\n",
              "  <tbody>\n",
              "    <tr>\n",
              "      <th>0</th>\n",
              "      <td>802906</td>\n",
              "      <td>6</td>\n",
              "      <td>487</td>\n",
              "      <td>12198</td>\n",
              "      <td>2</td>\n",
              "      <td>30</td>\n",
              "      <td>6</td>\n",
              "      <td>5</td>\n",
              "      <td>t</td>\n",
              "      <td>r</td>\n",
              "      <td>...</td>\n",
              "      <td>0</td>\n",
              "      <td>0</td>\n",
              "      <td>0</td>\n",
              "      <td>0</td>\n",
              "      <td>0</td>\n",
              "      <td>0</td>\n",
              "      <td>0</td>\n",
              "      <td>0</td>\n",
              "      <td>0</td>\n",
              "      <td>3</td>\n",
              "    </tr>\n",
              "    <tr>\n",
              "      <th>1</th>\n",
              "      <td>28830</td>\n",
              "      <td>8</td>\n",
              "      <td>900</td>\n",
              "      <td>2812</td>\n",
              "      <td>2</td>\n",
              "      <td>10</td>\n",
              "      <td>8</td>\n",
              "      <td>7</td>\n",
              "      <td>o</td>\n",
              "      <td>r</td>\n",
              "      <td>...</td>\n",
              "      <td>0</td>\n",
              "      <td>0</td>\n",
              "      <td>0</td>\n",
              "      <td>0</td>\n",
              "      <td>0</td>\n",
              "      <td>0</td>\n",
              "      <td>0</td>\n",
              "      <td>0</td>\n",
              "      <td>0</td>\n",
              "      <td>2</td>\n",
              "    </tr>\n",
              "    <tr>\n",
              "      <th>2</th>\n",
              "      <td>94947</td>\n",
              "      <td>21</td>\n",
              "      <td>363</td>\n",
              "      <td>8973</td>\n",
              "      <td>2</td>\n",
              "      <td>10</td>\n",
              "      <td>5</td>\n",
              "      <td>5</td>\n",
              "      <td>t</td>\n",
              "      <td>r</td>\n",
              "      <td>...</td>\n",
              "      <td>0</td>\n",
              "      <td>0</td>\n",
              "      <td>0</td>\n",
              "      <td>0</td>\n",
              "      <td>0</td>\n",
              "      <td>0</td>\n",
              "      <td>0</td>\n",
              "      <td>0</td>\n",
              "      <td>0</td>\n",
              "      <td>3</td>\n",
              "    </tr>\n",
              "    <tr>\n",
              "      <th>3</th>\n",
              "      <td>590882</td>\n",
              "      <td>22</td>\n",
              "      <td>418</td>\n",
              "      <td>10694</td>\n",
              "      <td>2</td>\n",
              "      <td>10</td>\n",
              "      <td>6</td>\n",
              "      <td>5</td>\n",
              "      <td>t</td>\n",
              "      <td>r</td>\n",
              "      <td>...</td>\n",
              "      <td>0</td>\n",
              "      <td>0</td>\n",
              "      <td>0</td>\n",
              "      <td>0</td>\n",
              "      <td>0</td>\n",
              "      <td>0</td>\n",
              "      <td>0</td>\n",
              "      <td>0</td>\n",
              "      <td>0</td>\n",
              "      <td>2</td>\n",
              "    </tr>\n",
              "    <tr>\n",
              "      <th>4</th>\n",
              "      <td>201944</td>\n",
              "      <td>11</td>\n",
              "      <td>131</td>\n",
              "      <td>1488</td>\n",
              "      <td>3</td>\n",
              "      <td>30</td>\n",
              "      <td>8</td>\n",
              "      <td>9</td>\n",
              "      <td>t</td>\n",
              "      <td>r</td>\n",
              "      <td>...</td>\n",
              "      <td>0</td>\n",
              "      <td>0</td>\n",
              "      <td>0</td>\n",
              "      <td>0</td>\n",
              "      <td>0</td>\n",
              "      <td>0</td>\n",
              "      <td>0</td>\n",
              "      <td>0</td>\n",
              "      <td>0</td>\n",
              "      <td>3</td>\n",
              "    </tr>\n",
              "  </tbody>\n",
              "</table>\n",
              "<p>5 rows × 40 columns</p>\n",
              "</div>"
            ],
            "text/plain": [
              "   building_id  geo_level_1_id  geo_level_2_id  geo_level_3_id  \\\n",
              "0       802906               6             487           12198   \n",
              "1        28830               8             900            2812   \n",
              "2        94947              21             363            8973   \n",
              "3       590882              22             418           10694   \n",
              "4       201944              11             131            1488   \n",
              "\n",
              "   count_floors_pre_eq  age  area_percentage  height_percentage  \\\n",
              "0                    2   30                6                  5   \n",
              "1                    2   10                8                  7   \n",
              "2                    2   10                5                  5   \n",
              "3                    2   10                6                  5   \n",
              "4                    3   30                8                  9   \n",
              "\n",
              "  land_surface_condition foundation_type  ... has_secondary_use_hotel  \\\n",
              "0                      t               r  ...                       0   \n",
              "1                      o               r  ...                       0   \n",
              "2                      t               r  ...                       0   \n",
              "3                      t               r  ...                       0   \n",
              "4                      t               r  ...                       0   \n",
              "\n",
              "  has_secondary_use_rental has_secondary_use_institution  \\\n",
              "0                        0                             0   \n",
              "1                        0                             0   \n",
              "2                        0                             0   \n",
              "3                        0                             0   \n",
              "4                        0                             0   \n",
              "\n",
              "  has_secondary_use_school has_secondary_use_industry  \\\n",
              "0                        0                          0   \n",
              "1                        0                          0   \n",
              "2                        0                          0   \n",
              "3                        0                          0   \n",
              "4                        0                          0   \n",
              "\n",
              "   has_secondary_use_health_post  has_secondary_use_gov_office  \\\n",
              "0                              0                             0   \n",
              "1                              0                             0   \n",
              "2                              0                             0   \n",
              "3                              0                             0   \n",
              "4                              0                             0   \n",
              "\n",
              "   has_secondary_use_use_police  has_secondary_use_other  damage_grade  \n",
              "0                             0                        0             3  \n",
              "1                             0                        0             2  \n",
              "2                             0                        0             3  \n",
              "3                             0                        0             2  \n",
              "4                             0                        0             3  \n",
              "\n",
              "[5 rows x 40 columns]"
            ]
          },
          "execution_count": 29,
          "metadata": {},
          "output_type": "execute_result"
        }
      ],
      "source": [
        "df.head()"
      ]
    },
    {
      "cell_type": "code",
      "execution_count": null,
      "id": "4263d791",
      "metadata": {
        "id": "4263d791"
      },
      "outputs": [],
      "source": []
    },
    {
      "cell_type": "markdown",
      "id": "0a60bee8",
      "metadata": {
        "id": "0a60bee8"
      },
      "source": [
        "# Statistical Feature Selection (Categorical Vs Continuous) using Anova test\n",
        "\n",
        "Analysis of variance(ANOVA) is performed to check if there is any relationship between the given continuous and categorical variable\n",
        "\n",
        "> * Assumption(H0) : There is No relation between the given variables (i.e. The average(mean) values of the numeric Predictor variable is same for all the groups in the categorical Target Variable\n",
        "\n",
        ">- ANOVA Test result : Probability of H0 being true"
      ]
    },
    {
      "cell_type": "code",
      "execution_count": null,
      "id": "de6376df",
      "metadata": {
        "id": "de6376df"
      },
      "outputs": [],
      "source": [
        "# Defining a function to find the statistical relationship\n",
        "\n",
        "def FunctionAnova(inpData, TargetVariable,ContinuousPredictorList):\n",
        "    from scipy.stats import f_oneway\n",
        "    \n",
        "    # Creating an empty list of final selected predictors\n",
        "    SelectedPredictors=[]\n",
        "    \n",
        "    print(\"####Anova Results ##### \\n\")\n",
        "    for predictor in ContinuousPredictorList:\n",
        "        CategoryGroupLists = inpData.groupby(TargetVariable)[predictor].apply(list)\n",
        "        AnovaResults = f_oneway(*CategoryGroupLists)\n",
        "        \n",
        "        # If the ANOVA P-value is <0.05 , that means we reject H0\n",
        "        \n",
        "        if(AnovaResults[1]<0.05):\n",
        "            print(predictor,\"is correlated with\",TargetVariable,\"|P-Value\",AnovaResults[1])\n",
        "            SelectedPredictors.append(predictor)\n",
        "        else:\n",
        "            print(predictor,\"is Not correlated with\",TargetVariable,\"P-Value\", AnovaResults[1])\n",
        "    \n",
        "    return(SelectedPredictors)\n",
        "        \n",
        "        \n",
        "        \n"
      ]
    },
    {
      "cell_type": "code",
      "execution_count": null,
      "id": "18c85e56",
      "metadata": {
        "id": "18c85e56"
      },
      "outputs": [],
      "source": [
        "ContinuousVariables= ['','', '']\n",
        "FunctionAnova(inpData=df, TargetVariable=\"damage_grade\",ContinuousPredictorList=ContinuousVariables)"
      ]
    },
    {
      "cell_type": "code",
      "execution_count": null,
      "id": "95c8fa17",
      "metadata": {
        "id": "95c8fa17"
      },
      "outputs": [],
      "source": [
        "ContinuousColsList = ['','','']\n",
        "\n",
        "import matplotlib.pyplot as plt\n",
        "fig, PlotCanvas = plt.subplots(nrows=1,ncols=len(ContinuousColsList),figsize=(18,5))\n",
        "\n",
        "# Creating box plots for each continuous predictor against the Target Variable \"BadCredit\"\n",
        "\n",
        "for PredictorCol , i in zip(ContinuousColsList,range(len(ContinuousColsList))):\n",
        "    CreditRiskData.boxplot(column=PredictorCol,\n",
        "                          by=\"y\",\n",
        "                          figsize=(5,5),\n",
        "                          vert=True,\n",
        "                          ax=PlotCanvas[i])"
      ]
    },
    {
      "cell_type": "code",
      "execution_count": null,
      "id": "7f9f5ff2",
      "metadata": {
        "id": "7f9f5ff2"
      },
      "outputs": [],
      "source": [
        "df.describe(include=np.int64).columns"
      ]
    },
    {
      "cell_type": "markdown",
      "id": "b7292db8",
      "metadata": {
        "id": "b7292db8"
      },
      "source": [
        "# Relationship exploration : Categorical vs Categorical -- Grouped Bar Charts\n",
        "> - When the target variable is Categorical and the predictor is also Categorical then we explore the correlation between them visually using barplots and statistically using Chi-square test"
      ]
    },
    {
      "cell_type": "code",
      "execution_count": null,
      "id": "119551cd",
      "metadata": {
        "id": "119551cd"
      },
      "outputs": [],
      "source": [
        "# Cross tabulation between two categorical variables\n",
        "CrossTabResult = pd.crosstab(columns=df['damage_grade'],index=df[''])\n",
        "CrossTabResult\n"
      ]
    },
    {
      "cell_type": "code",
      "execution_count": null,
      "id": "296db9bb",
      "metadata": {
        "id": "296db9bb",
        "outputId": "77267dfb-d1ed-40af-c241-60b733e266e6"
      },
      "outputs": [
        {
          "data": {
            "text/plain": [
              "Index(['land_surface_condition', 'foundation_type', 'roof_type',\n",
              "       'ground_floor_type', 'other_floor_type', 'position',\n",
              "       'plan_configuration', 'legal_ownership_status'],\n",
              "      dtype='object')"
            ]
          },
          "execution_count": 30,
          "metadata": {},
          "output_type": "execute_result"
        },
        {
          "data": {
            "text/html": [
              "<div>\n",
              "<style scoped>\n",
              "    .dataframe tbody tr th:only-of-type {\n",
              "        vertical-align: middle;\n",
              "    }\n",
              "\n",
              "    .dataframe tbody tr th {\n",
              "        vertical-align: top;\n",
              "    }\n",
              "\n",
              "    .dataframe thead th {\n",
              "        text-align: right;\n",
              "    }\n",
              "</style>\n",
              "<table border=\"1\" class=\"dataframe\">\n",
              "  <thead>\n",
              "    <tr style=\"text-align: right;\">\n",
              "      <th></th>\n",
              "      <th>land_surface_condition</th>\n",
              "      <th>foundation_type</th>\n",
              "      <th>roof_type</th>\n",
              "      <th>ground_floor_type</th>\n",
              "      <th>other_floor_type</th>\n",
              "      <th>position</th>\n",
              "      <th>plan_configuration</th>\n",
              "      <th>legal_ownership_status</th>\n",
              "    </tr>\n",
              "  </thead>\n",
              "  <tbody>\n",
              "    <tr>\n",
              "      <th>count</th>\n",
              "      <td>260601</td>\n",
              "      <td>260601</td>\n",
              "      <td>260601</td>\n",
              "      <td>260601</td>\n",
              "      <td>260601</td>\n",
              "      <td>260601</td>\n",
              "      <td>260601</td>\n",
              "      <td>260601</td>\n",
              "    </tr>\n",
              "    <tr>\n",
              "      <th>unique</th>\n",
              "      <td>3</td>\n",
              "      <td>5</td>\n",
              "      <td>3</td>\n",
              "      <td>5</td>\n",
              "      <td>4</td>\n",
              "      <td>4</td>\n",
              "      <td>10</td>\n",
              "      <td>4</td>\n",
              "    </tr>\n",
              "    <tr>\n",
              "      <th>top</th>\n",
              "      <td>t</td>\n",
              "      <td>r</td>\n",
              "      <td>n</td>\n",
              "      <td>f</td>\n",
              "      <td>q</td>\n",
              "      <td>s</td>\n",
              "      <td>d</td>\n",
              "      <td>v</td>\n",
              "    </tr>\n",
              "    <tr>\n",
              "      <th>freq</th>\n",
              "      <td>216757</td>\n",
              "      <td>219196</td>\n",
              "      <td>182842</td>\n",
              "      <td>209619</td>\n",
              "      <td>165282</td>\n",
              "      <td>202090</td>\n",
              "      <td>250072</td>\n",
              "      <td>250939</td>\n",
              "    </tr>\n",
              "  </tbody>\n",
              "</table>\n",
              "</div>"
            ],
            "text/plain": [
              "       land_surface_condition foundation_type roof_type ground_floor_type  \\\n",
              "count                  260601          260601    260601            260601   \n",
              "unique                      3               5         3                 5   \n",
              "top                         t               r         n                 f   \n",
              "freq                   216757          219196    182842            209619   \n",
              "\n",
              "       other_floor_type position plan_configuration legal_ownership_status  \n",
              "count            260601   260601             260601                 260601  \n",
              "unique                4        4                 10                      4  \n",
              "top                   q        s                  d                      v  \n",
              "freq             165282   202090             250072                 250939  "
            ]
          },
          "execution_count": 30,
          "metadata": {},
          "output_type": "execute_result"
        }
      ],
      "source": [
        "df.describe(include=np.object_).columns\n",
        "df.describe(include=np.object_)"
      ]
    },
    {
      "cell_type": "code",
      "execution_count": null,
      "id": "91912f46",
      "metadata": {
        "id": "91912f46"
      },
      "outputs": [],
      "source": [
        "# Visual Inference using Grouped Bar charts\n",
        "CategoricalColsList =['', '', '']\n",
        "\n",
        "import matplotlib.pyplot as plt\n",
        "fig, PlotCanvas = plt.subplots(nrows=len(CategoricalColsList),ncols=1,figsize=(10,90))\n",
        "\n",
        "for CategoricalCol, i in zip(CategoricalColsList,range(len(CategoricalColsList))):\n",
        "    CrossTabResult= pd.crosstab(index=df[CategoricalCol],columns=df['y'])\n",
        "    CrossTabResult.plot.bar(color=['blue','red'],ax=PlotCanvas[i])"
      ]
    },
    {
      "cell_type": "code",
      "execution_count": null,
      "id": "cda9d048",
      "metadata": {
        "id": "cda9d048"
      },
      "outputs": [],
      "source": []
    },
    {
      "cell_type": "code",
      "execution_count": null,
      "id": "d11e0437",
      "metadata": {
        "id": "d11e0437"
      },
      "outputs": [],
      "source": [
        "# Continuous to Categorical variables \n",
        "# Chi-square Test\n",
        "\n"
      ]
    },
    {
      "cell_type": "code",
      "execution_count": null,
      "id": "d6cedbb1",
      "metadata": {
        "id": "d6cedbb1"
      },
      "outputs": [],
      "source": [
        "age_gr = df.age.quantile(q=list(np.arange(0,1,0.1)))\n",
        "age_gr\n",
        "df[\"age_gr\"] = 0"
      ]
    },
    {
      "cell_type": "code",
      "execution_count": null,
      "id": "fc4afa0c",
      "metadata": {
        "id": "fc4afa0c"
      },
      "outputs": [],
      "source": [
        "for i in range (df[\"age\"].shape[0]) :\n",
        "    if df.loc[i,\"age\"] <= duration_gr.iloc[1] :\n",
        "        df.loc[i,\"age_gr\"] = 1\n",
        "    elif df.loc[i,\"age\"] <= duration_gr.iloc[2] :\n",
        "        df.loc[i,\"age_gr\"] = 2\n",
        "    elif df.loc[i,\"age\"] <= duration_gr.iloc[3] :\n",
        "        df.loc[i,\"age_gr\"] = 3\n",
        "    elif df.loc[i,\"age\"] <= duration_gr.iloc[4] :\n",
        "        df.loc[i,\"age_gr\"] = 4\n",
        "    elif df.loc[i,\"age\"] <= duration_gr.iloc[5] :\n",
        "        df.loc[i,\"age_gr\"] = 5\n",
        "    elif df.loc[i,\"age\"] <= duration_gr.iloc[6] :\n",
        "        df.loc[i,\"age_gr\"] = 6\n",
        "    elif df.loc[i,\"age\"] <= duration_gr.iloc[7] :\n",
        "        df.loc[i,\"age_gr\"] = 7\n",
        "    elif df.loc[i,\"age\"] <= duration_gr.iloc[8] :\n",
        "        df.loc[i,\"age_gr\"] = 8\n",
        "    elif df.loc[i,\"age\"] <= duration_gr.iloc[9] :\n",
        "        df.loc[i,\"age_gr\"] = 9\n",
        "    else :\n",
        "        df.loc[i,\"age_gr\"] = 10"
      ]
    },
    {
      "cell_type": "code",
      "execution_count": null,
      "id": "21226ac5",
      "metadata": {
        "id": "21226ac5"
      },
      "outputs": [],
      "source": [
        "Crosstab = pd.crosstab(df[\"damage_grade\"],df[\"age_gr\"],margins=True)\n",
        "\n",
        "Chi2, p_value,dof,threshold = chi2_contingency(observed=Crosstab)\n",
        "Chi2\n",
        "p_value"
      ]
    },
    {
      "cell_type": "markdown",
      "id": "b0d9b1b8",
      "metadata": {
        "id": "b0d9b1b8"
      },
      "source": [
        "# Grouped Bar charts Interpretation\n",
        "What to look for in these group bar charts?\n",
        "\n",
        "* These grouped bar charts show the frequency in the Y-Axis and the category in the X-Axis. If the ratio of bars is similar across all categories, then the two columns are not correlated.\n",
        "\n",
        " \n",
        " \n",
        " Hence, two columns are correlated with each other\n",
        " \n",
        "\n",
        "confirm this analysis in below section by using Chi-Square Tests"
      ]
    },
    {
      "cell_type": "markdown",
      "id": "f815535f",
      "metadata": {
        "id": "f815535f"
      },
      "source": [
        "## Statistical Feature Selection (Categorical vs Categorical) using Chi-Square Test\n",
        "* Chi-Square is conducted to check the correlation between two categorical variables\n",
        "* Assumption(H0) : The among columns(levels with x variable) are NOT related to each other \n",
        "* mathisfun chi-square-test"
      ]
    },
    {
      "cell_type": "code",
      "execution_count": null,
      "id": "021bc3ab",
      "metadata": {
        "id": "021bc3ab"
      },
      "outputs": [],
      "source": [
        "def FunctionChisq(inpData, TargetVariable, CategoricalVariablesList):\n",
        "    from scipy.stats import chi2_contingency\n",
        "    \n",
        "    # Creating an empty list of final selected predictors\n",
        "    SelectedPredictors=[]\n",
        "    for predictor in CategoricalVariablesList:\n",
        "        CrossTabResult= pd.crosstab(index=inpData[TargetVariable],columns=inpData[predictor])\n",
        "        ChiSqResult = chi2_contingency(CrossTabResult)\n",
        "        \n",
        "        if (ChiSqResult[1]<0.05):\n",
        "            print(predictor, \" is accepted with 95% CI\",\n",
        "                 TargetVariable, \"|P-Value\",ChiSqResult[1])\n",
        "            SelectedPredictors.append(predictor)\n",
        "        else :\n",
        "            print(predictor, \" is Not accepted with 95% CI\",\n",
        "                 TargetVariable, \"|P-Value\",ChiSqResult[1])\n",
        "    return(SelectedPredictors)"
      ]
    },
    {
      "cell_type": "code",
      "execution_count": null,
      "id": "6203bb1d",
      "metadata": {
        "id": "6203bb1d"
      },
      "outputs": [],
      "source": [
        "CategoricalVariables = [ '','', '']\n",
        "\n",
        "FunctionChisq(inpData=df, TargetVariable=\"damage_grade\", CategoricalVariablesList=CategoricalVariables)"
      ]
    },
    {
      "cell_type": "markdown",
      "id": "2fbd2025",
      "metadata": {
        "id": "2fbd2025"
      },
      "source": [
        "# Selecting final predictors for Machine Learning\n",
        "> * Based on the above tests, selecting the final columns for machine learning"
      ]
    },
    {
      "cell_type": "code",
      "execution_count": null,
      "id": "52fef2f7",
      "metadata": {
        "id": "52fef2f7"
      },
      "outputs": [],
      "source": [
        "SelectedColumns=['','','']\n",
        "\n",
        "ModelData = df[SelectedColumns]\n",
        "ModelData.head()\n",
        "ModelData.info()"
      ]
    },
    {
      "cell_type": "code",
      "execution_count": null,
      "id": "03da904f",
      "metadata": {
        "id": "03da904f"
      },
      "outputs": [],
      "source": [
        "# Saving this final data for reference during deployment\n",
        "ModelData.to_csv(\"C:\\\\Users\\\\82104\\\\Desktop\\\\data\\\\ModelData.csv\")\n"
      ]
    },
    {
      "cell_type": "markdown",
      "id": "fbf29408",
      "metadata": {
        "id": "fbf29408"
      },
      "source": [
        "# Splitting the data into Training and Testing sample\n"
      ]
    },
    {
      "cell_type": "code",
      "execution_count": null,
      "id": "8af333d7",
      "metadata": {
        "id": "8af333d7"
      },
      "outputs": [],
      "source": [
        "X_train,X_test,y_train,y_test = train_test_split(X,y,stratify=y,test_size=0.2,random_state=42)\n",
        "X_train1,X_test1,y_train1,y_test1 = train_test_split(X,y,stratify=y,test_size=0.3,random_state=42)\n",
        "X_train2,X_test2,y_train2,y_test2 = train_test_split(X,y,stratify=y,test_size=0.4,random_state=42)\n",
        "X_train3,X_test3,y_train3,y_test3 = train_test_split(X,y,stratify=y,test_size=0.5,random_state=42)"
      ]
    },
    {
      "cell_type": "code",
      "execution_count": null,
      "id": "aa45ffc1",
      "metadata": {
        "id": "aa45ffc1"
      },
      "outputs": [],
      "source": [
        "split_80_20=y_train.mean()-y_test.mean()\n",
        "split_70_30=y_train1.mean()-y_test1.mean()\n",
        "split_60_40=y_train2.mean()-y_test2.mean()\n",
        "split_50_50=y_train3.mean()-y_test3.mean()\n"
      ]
    },
    {
      "cell_type": "code",
      "execution_count": null,
      "id": "48e6b824",
      "metadata": {
        "id": "48e6b824"
      },
      "outputs": [],
      "source": [
        "import pandas as pd\n",
        "\n",
        "split_ratio_df = pd.DataFrame({\"train_test_split ratio\" : [\"split_80_20\", \"split_70_30\",\"split_60_40\",\"split_50_50\"],\n",
        "                              \"gap\":[abs(split_80_20),abs(split_70_30),abs(split_60_40),abs(split_50_50)]},\n",
        "                             index=[\"split_80_20\",\"split_70_30\",\"split_60_40\",\"split_50_50\"])\n",
        "split_ratio_df\n",
        "\n",
        "min(split_ratio_df[\"gap\"])"
      ]
    },
    {
      "cell_type": "markdown",
      "id": "a2e0b9cb",
      "metadata": {
        "id": "a2e0b9cb"
      },
      "source": [
        "# Logistic Regression"
      ]
    },
    {
      "cell_type": "code",
      "execution_count": null,
      "id": "73bf9500",
      "metadata": {
        "id": "73bf9500"
      },
      "outputs": [],
      "source": [
        "# Logistic Regression\n",
        "from sklearn.linear_model import LogisticRegression\n",
        "\n",
        "# choose parameter Penalty = 'l1' or C = 1\n",
        "#----------------------------------------------------\n",
        "# C : Cost function : L1, L2\n",
        "# HIgher C - weaker restraint \n",
        "\n",
        "#           ------ * select appropriate level of C------------------\n",
        "\n",
        "#  Lower C - higher restraint \n",
        "#----------------------------------------------------\n",
        "\n",
        "\n",
        "\n",
        "#----------------------------------------------------\n",
        "# value for solver\n",
        "#----------------------------------------------------\n",
        "# 'newton-cg' : only supports L2\n",
        "#----------------------------------------------------\n",
        "\n",
        "clf_C001 = LogisticRegression(C=0.01, # C : Cost function : L1, L2 constraint level  # parameter values\n",
        "                              penalty='l2',\n",
        "                              solver='newton-cg').fit(X_train,y_train) \n",
        "clf_C001.score(X_train,y_train)\n",
        "clf_C001.score(X_test,y_test) "
      ]
    },
    {
      "cell_type": "code",
      "execution_count": null,
      "id": "222a980a",
      "metadata": {
        "id": "222a980a"
      },
      "outputs": [],
      "source": [
        "clf_C01 = LogisticRegression(C=0.1, \n",
        "                              penalty='l2',\n",
        "                              solver='newton-cg').fit(X_train,y_train) \n",
        "clf_C01.score(X_train,y_train) \n",
        "clf_C01.score(X_test,y_test) "
      ]
    },
    {
      "cell_type": "code",
      "execution_count": null,
      "id": "720393ed",
      "metadata": {
        "id": "720393ed"
      },
      "outputs": [],
      "source": [
        "clf_C1 = LogisticRegression(C=1, \n",
        "                              penalty='l2',\n",
        "                              solver='newton-cg').fit(X_train,y_train) \n",
        "clf_C1.score(X_train,y_train) \n",
        "clf_C1.score(X_test,y_test) "
      ]
    },
    {
      "cell_type": "code",
      "execution_count": null,
      "id": "c2f2d16d",
      "metadata": {
        "id": "c2f2d16d"
      },
      "outputs": [],
      "source": [
        "clf_C10 = LogisticRegression(C=10, \n",
        "                              penalty='l2',\n",
        "                              solver='newton-cg').fit(X_train,y_train) \n",
        "clf_C10.score(X_train,y_train) \n",
        "clf_C10.score(X_test,y_test) "
      ]
    },
    {
      "cell_type": "code",
      "execution_count": null,
      "id": "c360e389",
      "metadata": {
        "id": "c360e389"
      },
      "outputs": [],
      "source": [
        "clf_C100 = LogisticRegression(C=100, \n",
        "                              penalty='l2',\n",
        "                              solver='newton-cg').fit(X_train,y_train) \n",
        "clf_C100.score(X_train,y_train) # 0.7814285714285715\n",
        "clf_C100.score(X_test,y_test) # 0.7833333333333333"
      ]
    },
    {
      "cell_type": "code",
      "execution_count": null,
      "id": "01c252a3",
      "metadata": {
        "id": "01c252a3"
      },
      "outputs": [],
      "source": []
    },
    {
      "cell_type": "markdown",
      "id": "673b6f7d",
      "metadata": {
        "id": "673b6f7d"
      },
      "source": [
        "# Chosen Parameters"
      ]
    },
    {
      "cell_type": "code",
      "execution_count": null,
      "id": "2ea4f623",
      "metadata": {
        "id": "2ea4f623"
      },
      "outputs": [],
      "source": [
        "# [selected parameters] parameter Penalty = 'l2', C =\n",
        "clf_C1 = LogisticRegression(C=1,\n",
        "                              penalty='l2', # ridge regression  - all or nothing  \n",
        "                                             # ㄴ OLS + lamda - lamda - chosen or not \n",
        "                              solver='newton-cg').fit(X_train,y_train) # 'newtown-cg' : L2 \n",
        "clf_C1.score(X_train,y_train) \n",
        "clf_C1.score(X_test,y_test) "
      ]
    },
    {
      "cell_type": "code",
      "execution_count": null,
      "id": "fbfc83cd",
      "metadata": {
        "id": "fbfc83cd"
      },
      "outputs": [],
      "source": [
        "clf_C1.C\n",
        "clf_C1.coef_\n",
        "X_test.shape\n",
        "df.columns"
      ]
    },
    {
      "cell_type": "code",
      "execution_count": null,
      "id": "0349d28b",
      "metadata": {
        "id": "0349d28b"
      },
      "outputs": [],
      "source": [
        "from matplotlib import pyplot as plt\n",
        "\n",
        "plt.figure(figsize=(10,8))\n",
        "\n",
        "plt.plot(clf_C001.coef_.T,'o',label=\"C=0.01\")\n",
        "plt.plot(clf_C01.coef_.T,'*',label=\"C=0.1\")\n",
        "plt.plot(clf_C1.coef_.T,'v',label=\"C=1\")\n",
        "\n",
        "\n",
        "\n",
        "xlims = plt.xlim()\n",
        "plt.hlines(0,xlims[0],xlims[1])\n",
        "plt.xlim(xlims)\n",
        "plt.ylim(-5,5)\n",
        "plt.xlabel(\"X\")\n",
        "plt.ylabel(\"coef-size\")\n",
        "plt.legend()\n",
        "\n",
        "plt.show()"
      ]
    },
    {
      "cell_type": "code",
      "execution_count": null,
      "id": "3187c551",
      "metadata": {
        "id": "3187c551"
      },
      "outputs": [],
      "source": [
        "plt.figure(figsize=(10,8))\n",
        "\n",
        "plt.plot(clf_C001.coef_.T,'o',label=\"C=0.01\")\n",
        "plt.plot(clf_C01.coef_.T,'*',label=\"C=0.1\")\n",
        "plt.plot(clf_C1.coef_.T,'v',label=\"C=1\")\n",
        "plt.plot(clf_C10.coef_.T,'^',label=\"C=10\")\n",
        "plt.plot(clf_C100.coef_.T,'-',label=\"C=100\")\n",
        "\n",
        "xlims = plt.xlim()\n",
        "plt.hlines(0,xlims[0],xlims[1])\n",
        "plt.xlim(xlims)\n",
        "plt.ylim(-2,2)\n",
        "plt.xlabel(\"X\")\n",
        "plt.ylabel(\"coef-size\")\n",
        "plt.legend()"
      ]
    },
    {
      "cell_type": "code",
      "execution_count": null,
      "id": "8ffcb49a",
      "metadata": {
        "id": "8ffcb49a"
      },
      "outputs": [],
      "source": []
    },
    {
      "cell_type": "code",
      "execution_count": null,
      "id": "671ca63f",
      "metadata": {
        "id": "671ca63f"
      },
      "outputs": [],
      "source": [
        "Best_GLM_clf_1 = LogisticRegression(C=,penalty='l2',solver='newton-cg')\n",
        "Best_GLM_clf_1"
      ]
    },
    {
      "cell_type": "code",
      "execution_count": null,
      "id": "f3b57df9",
      "metadata": {
        "id": "f3b57df9"
      },
      "outputs": [],
      "source": [
        "# Creating the model on Training Data\n",
        "Best_GLM_clf_1_fit = Best_GLM_clf_1.fit(X_train,y_train)\n",
        "\n",
        "# 분류(예측) : 확률적 판별 모형\n",
        "prediction = Best_GLM_clf_1_fit.predict(X_test)\n",
        "prediction"
      ]
    },
    {
      "cell_type": "code",
      "execution_count": null,
      "id": "7d1fb09c",
      "metadata": {
        "id": "7d1fb09c"
      },
      "outputs": [],
      "source": [
        "# Measuring accuracy on Testing Data\n",
        "\n",
        "from sklearn import metrics\n",
        "\n",
        "print(metrics.classification_report(y_test,prediction))\n",
        "\n",
        "metrics.confusion_matrix(y_test, prediction)"
      ]
    },
    {
      "cell_type": "code",
      "execution_count": null,
      "id": "1a29fdd3",
      "metadata": {
        "id": "1a29fdd3"
      },
      "outputs": [],
      "source": [
        "# Printing the Overall Accuracy of the model\n",
        "\n",
        "F1_Score = metrics.f1_score(y_test,prediction,average='weighted')\n",
        "\n",
        "# Accuracy of the model on Testing Sample Data\n",
        "round(F1_Score,2) # 0.77"
      ]
    },
    {
      "cell_type": "code",
      "execution_count": null,
      "id": "74f3813e",
      "metadata": {
        "id": "74f3813e"
      },
      "outputs": [],
      "source": [
        "Best_GLM_clf_1.n_features_in_  # 모든 그룹변수까지 해서 총 갯수\n",
        "Best_GLM_clf_1.coef_\n",
        "DataforML_Numeric.columns"
      ]
    },
    {
      "cell_type": "code",
      "execution_count": null,
      "id": "32bb189c",
      "metadata": {
        "id": "32bb189c"
      },
      "outputs": [],
      "source": []
    },
    {
      "cell_type": "markdown",
      "id": "bdabeddf",
      "metadata": {
        "id": "bdabeddf"
      },
      "source": [
        "# Accuracy values for 10-fold Cross Validation\n",
        "### One way of solving overfitting"
      ]
    },
    {
      "cell_type": "code",
      "execution_count": null,
      "id": "2943c070",
      "metadata": {
        "id": "2943c070"
      },
      "outputs": [],
      "source": [
        "# Importing cross validation function from sklearn\n",
        "from sklearn.model_selection import cross_val_score\n",
        "\n",
        "# Running 10-Fold Cross validation on a given algorithm\n",
        "\n",
        "# Passing full data X and y because the K-fold will split the data and automatically choose train/test\n",
        "Accuracy_values_10 = cross_val_score(Best_GLM_clf_1_fit,X,y,cv=10,scoring='f1_weighted')\n",
        "\n",
        "Accuracy_values_10\n",
        "round(Accuracy_values_10.mean(),2)\n",
        "\n",
        "#------------------------------------------------------------------------------------------\n",
        "\n",
        "Accuracy_values_20 = cross_val_score(Best_GLM_clf_1_fit,X,y,cv=20,scoring='f1_weighted')\n",
        "\n",
        "Accuracy_values_20\n",
        "round(Accuracy_values_20.mean(),2)"
      ]
    },
    {
      "cell_type": "code",
      "execution_count": null,
      "id": "e8dcfaf6",
      "metadata": {
        "id": "e8dcfaf6"
      },
      "outputs": [],
      "source": []
    },
    {
      "cell_type": "code",
      "execution_count": null,
      "id": "05c664ba",
      "metadata": {
        "id": "05c664ba"
      },
      "outputs": [],
      "source": []
    },
    {
      "cell_type": "code",
      "execution_count": null,
      "id": "f5724ef3",
      "metadata": {
        "id": "f5724ef3"
      },
      "outputs": [],
      "source": []
    },
    {
      "cell_type": "code",
      "execution_count": null,
      "id": "56240969",
      "metadata": {
        "id": "56240969"
      },
      "outputs": [],
      "source": []
    },
    {
      "cell_type": "code",
      "execution_count": null,
      "id": "227d1400",
      "metadata": {
        "id": "227d1400"
      },
      "outputs": [],
      "source": []
    },
    {
      "cell_type": "code",
      "execution_count": null,
      "id": "1f91c05a",
      "metadata": {
        "id": "1f91c05a"
      },
      "outputs": [],
      "source": []
    },
    {
      "cell_type": "code",
      "execution_count": null,
      "id": "7adad43c",
      "metadata": {
        "id": "7adad43c"
      },
      "outputs": [],
      "source": []
    },
    {
      "cell_type": "code",
      "execution_count": null,
      "id": "0a4ee0bf",
      "metadata": {
        "id": "0a4ee0bf"
      },
      "outputs": [],
      "source": []
    },
    {
      "cell_type": "code",
      "execution_count": null,
      "id": "edb4eea6",
      "metadata": {
        "id": "edb4eea6"
      },
      "outputs": [],
      "source": []
    }
  ],
  "metadata": {
    "kernelspec": {
      "display_name": "Python 3 (ipykernel)",
      "language": "python",
      "name": "python3"
    },
    "language_info": {
      "codemirror_mode": {
        "name": "ipython",
        "version": 3
      },
      "file_extension": ".py",
      "mimetype": "text/x-python",
      "name": "python",
      "nbconvert_exporter": "python",
      "pygments_lexer": "ipython3",
      "version": "3.9.12"
    },
    "colab": {
      "provenance": [],
      "include_colab_link": true
    }
  },
  "nbformat": 4,
  "nbformat_minor": 5
}